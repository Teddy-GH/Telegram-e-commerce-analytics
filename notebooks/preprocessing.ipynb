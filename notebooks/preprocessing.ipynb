{
 "cells": [
  {
   "cell_type": "code",
   "execution_count": 2,
   "metadata": {},
   "outputs": [],
   "source": [
    "import numpy as np\n",
    "import pandas as pd\n",
    "import matplotlib.pyplot as plt\n",
    "import seaborn as sns\n",
    "import os \n",
    "import sys \n",
    "sys.path.append(os.path.abspath(os.path.join('..')))\n",
    "import scripts.preprocessing as p\n",
    "df = pd.read_csv('../data/telegram_data.csv')"
   ]
  },
  {
   "cell_type": "code",
   "execution_count": 3,
   "metadata": {},
   "outputs": [
    {
     "data": {
      "text/html": [
       "<div>\n",
       "<style scoped>\n",
       "    .dataframe tbody tr th:only-of-type {\n",
       "        vertical-align: middle;\n",
       "    }\n",
       "\n",
       "    .dataframe tbody tr th {\n",
       "        vertical-align: top;\n",
       "    }\n",
       "\n",
       "    .dataframe thead th {\n",
       "        text-align: right;\n",
       "    }\n",
       "</style>\n",
       "<table border=\"1\" class=\"dataframe\">\n",
       "  <thead>\n",
       "    <tr style=\"text-align: right;\">\n",
       "      <th></th>\n",
       "      <th>Channel Title</th>\n",
       "      <th>Channel Username</th>\n",
       "      <th>ID</th>\n",
       "      <th>Message</th>\n",
       "      <th>Date</th>\n",
       "      <th>Media Path</th>\n",
       "    </tr>\n",
       "  </thead>\n",
       "  <tbody>\n",
       "    <tr>\n",
       "      <th>0</th>\n",
       "      <td>Sheger online-store</td>\n",
       "      <td>@Shageronlinestore</td>\n",
       "      <td>7383</td>\n",
       "      <td>💥Miralux Hot plate\\n ባለሁለት ምድጃ ስቶቭ\\n\\n      💯o...</td>\n",
       "      <td>2025-06-19 06:31:31+00:00</td>\n",
       "      <td>data/photos/@Shageronlinestore_7383.jpg</td>\n",
       "    </tr>\n",
       "    <tr>\n",
       "      <th>1</th>\n",
       "      <td>Sheger online-store</td>\n",
       "      <td>@Shageronlinestore</td>\n",
       "      <td>7382</td>\n",
       "      <td>💥7pcs glass water set\\n\\n✔️ አንድ ማራኪ ጆግና 6 መጠጫ ...</td>\n",
       "      <td>2025-06-18 11:19:11+00:00</td>\n",
       "      <td>data/photos/@Shageronlinestore_7382.jpg</td>\n",
       "    </tr>\n",
       "    <tr>\n",
       "      <th>2</th>\n",
       "      <td>Sheger online-store</td>\n",
       "      <td>@Shageronlinestore</td>\n",
       "      <td>7381</td>\n",
       "      <td>NaN</td>\n",
       "      <td>2025-06-18 11:19:11+00:00</td>\n",
       "      <td>data/photos/@Shageronlinestore_7381.jpg</td>\n",
       "    </tr>\n",
       "    <tr>\n",
       "      <th>3</th>\n",
       "      <td>Sheger online-store</td>\n",
       "      <td>@Shageronlinestore</td>\n",
       "      <td>7380</td>\n",
       "      <td>NaN</td>\n",
       "      <td>2025-06-18 11:19:11+00:00</td>\n",
       "      <td>data/photos/@Shageronlinestore_7380.jpg</td>\n",
       "    </tr>\n",
       "    <tr>\n",
       "      <th>4</th>\n",
       "      <td>Sheger online-store</td>\n",
       "      <td>@Shageronlinestore</td>\n",
       "      <td>7379</td>\n",
       "      <td>NaN</td>\n",
       "      <td>2025-06-18 11:19:11+00:00</td>\n",
       "      <td>data/photos/@Shageronlinestore_7379.jpg</td>\n",
       "    </tr>\n",
       "  </tbody>\n",
       "</table>\n",
       "</div>"
      ],
      "text/plain": [
       "         Channel Title    Channel Username    ID  \\\n",
       "0  Sheger online-store  @Shageronlinestore  7383   \n",
       "1  Sheger online-store  @Shageronlinestore  7382   \n",
       "2  Sheger online-store  @Shageronlinestore  7381   \n",
       "3  Sheger online-store  @Shageronlinestore  7380   \n",
       "4  Sheger online-store  @Shageronlinestore  7379   \n",
       "\n",
       "                                             Message  \\\n",
       "0  💥Miralux Hot plate\\n ባለሁለት ምድጃ ስቶቭ\\n\\n      💯o...   \n",
       "1  💥7pcs glass water set\\n\\n✔️ አንድ ማራኪ ጆግና 6 መጠጫ ...   \n",
       "2                                                NaN   \n",
       "3                                                NaN   \n",
       "4                                                NaN   \n",
       "\n",
       "                        Date                               Media Path  \n",
       "0  2025-06-19 06:31:31+00:00  data/photos/@Shageronlinestore_7383.jpg  \n",
       "1  2025-06-18 11:19:11+00:00  data/photos/@Shageronlinestore_7382.jpg  \n",
       "2  2025-06-18 11:19:11+00:00  data/photos/@Shageronlinestore_7381.jpg  \n",
       "3  2025-06-18 11:19:11+00:00  data/photos/@Shageronlinestore_7380.jpg  \n",
       "4  2025-06-18 11:19:11+00:00  data/photos/@Shageronlinestore_7379.jpg  "
      ]
     },
     "execution_count": 3,
     "metadata": {},
     "output_type": "execute_result"
    }
   ],
   "source": [
    "df.head()"
   ]
  },
  {
   "cell_type": "code",
   "execution_count": 5,
   "metadata": {},
   "outputs": [
    {
     "name": "stdout",
     "output_type": "stream",
     "text": [
      "Index(['Channel Title', 'Channel Username', 'ID', 'Message', 'Date',\n",
      "       'Media Path'],\n",
      "      dtype='object')\n"
     ]
    }
   ],
   "source": [
    "print(df.columns)"
   ]
  },
  {
   "cell_type": "code",
   "execution_count": 6,
   "metadata": {},
   "outputs": [
    {
     "data": {
      "text/plain": [
       "Channel Title       object\n",
       "Channel Username    object\n",
       "ID                   int64\n",
       "Message             object\n",
       "Date                object\n",
       "Media Path          object\n",
       "dtype: object"
      ]
     },
     "execution_count": 6,
     "metadata": {},
     "output_type": "execute_result"
    }
   ],
   "source": [
    "df.dtypes"
   ]
  },
  {
   "cell_type": "markdown",
   "metadata": {},
   "source": [
    "Data Quality "
   ]
  },
  {
   "cell_type": "code",
   "execution_count": 7,
   "metadata": {},
   "outputs": [
    {
     "name": "stdout",
     "output_type": "stream",
     "text": [
      "Numer of nan values in the df is                   Missing Values  % of Total Values Data Types\n",
      "Message                    14400              40.95     object\n",
      "Media Path                  6379              18.14     object\n",
      "Channel Username               0               0.00     object\n",
      "Channel Title                  0               0.00     object\n",
      "ID                             0               0.00      int64\n",
      "Date                           0               0.00     object\n"
     ]
    }
   ],
   "source": [
    "nan_counts = p.check_missing_values(df)\n",
    "print(f\"Numer of nan values in the df is {nan_counts}\")"
   ]
  },
  {
   "cell_type": "markdown",
   "metadata": {},
   "source": [
    "# percentage of missing values "
   ]
  },
  {
   "cell_type": "code",
   "execution_count": 8,
   "metadata": {},
   "outputs": [
    {
     "name": "stdout",
     "output_type": "stream",
     "text": [
      "The dataset has 9.85% missing values.\n"
     ]
    }
   ],
   "source": [
    "\n",
    "p.caculate_missing_percentage(df)"
   ]
  },
  {
   "cell_type": "code",
   "execution_count": 10,
   "metadata": {},
   "outputs": [
    {
     "name": "stdout",
     "output_type": "stream",
     "text": [
      "Numer of duplicate rows: 0\n"
     ]
    }
   ],
   "source": [
    "print(f\"Numer of duplicate rows: {df.duplicated().sum()}\")"
   ]
  },
  {
   "cell_type": "markdown",
   "metadata": {},
   "source": [
    " Missing values"
   ]
  },
  {
   "cell_type": "markdown",
   "metadata": {},
   "source": [
    "# Drop rows with missing values in the Message columns "
   ]
  },
  {
   "cell_type": "code",
   "execution_count": 11,
   "metadata": {},
   "outputs": [],
   "source": [
    "\n",
    "df = df.dropna(subset=['Message'])"
   ]
  },
  {
   "cell_type": "markdown",
   "metadata": {},
   "source": [
    "# confirm na is removed "
   ]
  },
  {
   "cell_type": "code",
   "execution_count": 12,
   "metadata": {},
   "outputs": [
    {
     "name": "stdout",
     "output_type": "stream",
     "text": [
      "Numer of NAN values in Message columns is 0\n"
     ]
    }
   ],
   "source": [
    "\n",
    "message_cleaned = df['Message'].isnull().sum()\n",
    "print(f\"Numer of NAN values in Message columns is {message_cleaned}\")"
   ]
  },
  {
   "cell_type": "code",
   "execution_count": 10,
   "metadata": {},
   "outputs": [
    {
     "name": "stdout",
     "output_type": "stream",
     "text": [
      "Data shape after droping the null values in the message column is (485, 6)\n"
     ]
    }
   ],
   "source": [
    "print(f\"Data shape after droping the null values in the message column is {df.shape}\")"
   ]
  },
  {
   "cell_type": "code",
   "execution_count": 13,
   "metadata": {},
   "outputs": [
    {
     "name": "stdout",
     "output_type": "stream",
     "text": [
      "         Channel Title    Channel Username    ID  \\\n",
      "0  Sheger online-store  @Shageronlinestore  7383   \n",
      "1  Sheger online-store  @Shageronlinestore  7382   \n",
      "6  Sheger online-store  @Shageronlinestore  7377   \n",
      "7  Sheger online-store  @Shageronlinestore  7376   \n",
      "8  Sheger online-store  @Shageronlinestore  7375   \n",
      "\n",
      "                                             Message  \\\n",
      "0    \\n ባለሁለት ምድጃ ስቶቭ\\n\\n      \\n\\n 2000 ዋት\\n ፊውዝ...   \n",
      "1  7pcs   \\n\\n አንድ ማራኪ ጆግና 6 መጠጫ ብርጭቆዎች\\n የፈሳሽ መጠ...   \n",
      "6    -  \\n\\n      .\\n360 °  \\n100%  !!\\n\\nዋጋ፦    ...   \n",
      "7         \\n\\n          -    \\nከ45cm እስከ 70cm መለጠ...   \n",
      "8         \\n\\n          -    \\n\\nዋጋ፦    2000 ብር\\n...   \n",
      "\n",
      "                        Date                               Media Path  \n",
      "0  2025-06-19 06:31:31+00:00  data/photos/@Shageronlinestore_7383.jpg  \n",
      "1  2025-06-18 11:19:11+00:00  data/photos/@Shageronlinestore_7382.jpg  \n",
      "6  2025-06-18 07:12:03+00:00                                      NaN  \n",
      "7  2025-06-17 18:32:21+00:00                                      NaN  \n",
      "8  2025-06-17 18:32:20+00:00  data/photos/@Shageronlinestore_7375.jpg  \n"
     ]
    }
   ],
   "source": [
    "# Apply remove emoji function to the message column\n",
    "df['Message'] = df['Message'].apply(p.remove_emojis).apply(p.remove_english_words)\n",
    "\n",
    "# Display the cleaned dataframe \n",
    "print(df.head())"
   ]
  },
  {
   "cell_type": "code",
   "execution_count": 14,
   "metadata": {},
   "outputs": [],
   "source": [
    "# save the updated data to csv file \n",
    "df.to_csv('../data/cleaned_data.csv')"
   ]
  },
  {
   "cell_type": "code",
   "execution_count": 15,
   "metadata": {},
   "outputs": [
    {
     "data": {
      "text/html": [
       "<div>\n",
       "<style scoped>\n",
       "    .dataframe tbody tr th:only-of-type {\n",
       "        vertical-align: middle;\n",
       "    }\n",
       "\n",
       "    .dataframe tbody tr th {\n",
       "        vertical-align: top;\n",
       "    }\n",
       "\n",
       "    .dataframe thead th {\n",
       "        text-align: right;\n",
       "    }\n",
       "</style>\n",
       "<table border=\"1\" class=\"dataframe\">\n",
       "  <thead>\n",
       "    <tr style=\"text-align: right;\">\n",
       "      <th></th>\n",
       "      <th>Channel Title</th>\n",
       "      <th>Channel Username</th>\n",
       "      <th>ID</th>\n",
       "      <th>Message</th>\n",
       "      <th>Date</th>\n",
       "      <th>Media Path</th>\n",
       "    </tr>\n",
       "  </thead>\n",
       "  <tbody>\n",
       "    <tr>\n",
       "      <th>0</th>\n",
       "      <td>Sheger online-store</td>\n",
       "      <td>@Shageronlinestore</td>\n",
       "      <td>7383</td>\n",
       "      <td>\\n ባለሁለት ምድጃ ስቶቭ\\n\\n      \\n\\n 2000 ዋት\\n ፊውዝ...</td>\n",
       "      <td>2025-06-19 06:31:31+00:00</td>\n",
       "      <td>data/photos/@Shageronlinestore_7383.jpg</td>\n",
       "    </tr>\n",
       "    <tr>\n",
       "      <th>1</th>\n",
       "      <td>Sheger online-store</td>\n",
       "      <td>@Shageronlinestore</td>\n",
       "      <td>7382</td>\n",
       "      <td>7pcs   \\n\\n አንድ ማራኪ ጆግና 6 መጠጫ ብርጭቆዎች\\n የፈሳሽ መጠ...</td>\n",
       "      <td>2025-06-18 11:19:11+00:00</td>\n",
       "      <td>data/photos/@Shageronlinestore_7382.jpg</td>\n",
       "    </tr>\n",
       "    <tr>\n",
       "      <th>6</th>\n",
       "      <td>Sheger online-store</td>\n",
       "      <td>@Shageronlinestore</td>\n",
       "      <td>7377</td>\n",
       "      <td>-  \\n\\n      .\\n360 °  \\n100%  !!\\n\\nዋጋ፦    ...</td>\n",
       "      <td>2025-06-18 07:12:03+00:00</td>\n",
       "      <td>NaN</td>\n",
       "    </tr>\n",
       "    <tr>\n",
       "      <th>7</th>\n",
       "      <td>Sheger online-store</td>\n",
       "      <td>@Shageronlinestore</td>\n",
       "      <td>7376</td>\n",
       "      <td>\\n\\n          -    \\nከ45cm እስከ 70cm መለጠ...</td>\n",
       "      <td>2025-06-17 18:32:21+00:00</td>\n",
       "      <td>NaN</td>\n",
       "    </tr>\n",
       "    <tr>\n",
       "      <th>8</th>\n",
       "      <td>Sheger online-store</td>\n",
       "      <td>@Shageronlinestore</td>\n",
       "      <td>7375</td>\n",
       "      <td>\\n\\n          -    \\n\\nዋጋ፦    2000 ብር\\n...</td>\n",
       "      <td>2025-06-17 18:32:20+00:00</td>\n",
       "      <td>data/photos/@Shageronlinestore_7375.jpg</td>\n",
       "    </tr>\n",
       "    <tr>\n",
       "      <th>...</th>\n",
       "      <td>...</td>\n",
       "      <td>...</td>\n",
       "      <td>...</td>\n",
       "      <td>...</td>\n",
       "      <td>...</td>\n",
       "      <td>...</td>\n",
       "    </tr>\n",
       "    <tr>\n",
       "      <th>35144</th>\n",
       "      <td>ምርጥ ዕቃ</td>\n",
       "      <td>@MerttEka</td>\n",
       "      <td>44</td>\n",
       "      <td>2500</td>\n",
       "      <td>2019-11-13 10:01:12+00:00</td>\n",
       "      <td>NaN</td>\n",
       "    </tr>\n",
       "    <tr>\n",
       "      <th>35145</th>\n",
       "      <td>ምርጥ ዕቃ</td>\n",
       "      <td>@MerttEka</td>\n",
       "      <td>43</td>\n",
       "      <td>ዋጋ 2500\\n0983063957</td>\n",
       "      <td>2019-11-13 10:00:40+00:00</td>\n",
       "      <td>NaN</td>\n",
       "    </tr>\n",
       "    <tr>\n",
       "      <th>35149</th>\n",
       "      <td>ምርጥ ዕቃ</td>\n",
       "      <td>@MerttEka</td>\n",
       "      <td>32</td>\n",
       "      <td>የሙያ ባለቤት መሆን መሠልጠን ነው።\\nቀለም ቀቢ ሳያስፈልግዎ ቤትዎን ወይ...</td>\n",
       "      <td>2019-11-09 04:44:54+00:00</td>\n",
       "      <td>NaN</td>\n",
       "    </tr>\n",
       "    <tr>\n",
       "      <th>35151</th>\n",
       "      <td>ምርጥ ዕቃ</td>\n",
       "      <td>@MerttEka</td>\n",
       "      <td>30</td>\n",
       "      <td>ቤትና ግቢዎን እንዲሁም የብረት እና የእንጨት ቁሳቁስዎን ቀለም ቀቢ ሳያስ...</td>\n",
       "      <td>2019-10-31 07:06:25+00:00</td>\n",
       "      <td>NaN</td>\n",
       "    </tr>\n",
       "    <tr>\n",
       "      <th>35154</th>\n",
       "      <td>ምርጥ ዕቃ</td>\n",
       "      <td>@MerttEka</td>\n",
       "      <td>23</td>\n",
       "      <td>ለማዘዝ\\n ://.</td>\n",
       "      <td>2019-10-27 13:38:49+00:00</td>\n",
       "      <td>NaN</td>\n",
       "    </tr>\n",
       "  </tbody>\n",
       "</table>\n",
       "<p>20768 rows × 6 columns</p>\n",
       "</div>"
      ],
      "text/plain": [
       "             Channel Title    Channel Username    ID  \\\n",
       "0      Sheger online-store  @Shageronlinestore  7383   \n",
       "1      Sheger online-store  @Shageronlinestore  7382   \n",
       "6      Sheger online-store  @Shageronlinestore  7377   \n",
       "7      Sheger online-store  @Shageronlinestore  7376   \n",
       "8      Sheger online-store  @Shageronlinestore  7375   \n",
       "...                    ...                 ...   ...   \n",
       "35144               ምርጥ ዕቃ           @MerttEka    44   \n",
       "35145               ምርጥ ዕቃ           @MerttEka    43   \n",
       "35149               ምርጥ ዕቃ           @MerttEka    32   \n",
       "35151               ምርጥ ዕቃ           @MerttEka    30   \n",
       "35154               ምርጥ ዕቃ           @MerttEka    23   \n",
       "\n",
       "                                                 Message  \\\n",
       "0        \\n ባለሁለት ምድጃ ስቶቭ\\n\\n      \\n\\n 2000 ዋት\\n ፊውዝ...   \n",
       "1      7pcs   \\n\\n አንድ ማራኪ ጆግና 6 መጠጫ ብርጭቆዎች\\n የፈሳሽ መጠ...   \n",
       "6        -  \\n\\n      .\\n360 °  \\n100%  !!\\n\\nዋጋ፦    ...   \n",
       "7             \\n\\n          -    \\nከ45cm እስከ 70cm መለጠ...   \n",
       "8             \\n\\n          -    \\n\\nዋጋ፦    2000 ብር\\n...   \n",
       "...                                                  ...   \n",
       "35144                                               2500   \n",
       "35145                                ዋጋ 2500\\n0983063957   \n",
       "35149  የሙያ ባለቤት መሆን መሠልጠን ነው።\\nቀለም ቀቢ ሳያስፈልግዎ ቤትዎን ወይ...   \n",
       "35151  ቤትና ግቢዎን እንዲሁም የብረት እና የእንጨት ቁሳቁስዎን ቀለም ቀቢ ሳያስ...   \n",
       "35154                                        ለማዘዝ\\n ://.   \n",
       "\n",
       "                            Date                               Media Path  \n",
       "0      2025-06-19 06:31:31+00:00  data/photos/@Shageronlinestore_7383.jpg  \n",
       "1      2025-06-18 11:19:11+00:00  data/photos/@Shageronlinestore_7382.jpg  \n",
       "6      2025-06-18 07:12:03+00:00                                      NaN  \n",
       "7      2025-06-17 18:32:21+00:00                                      NaN  \n",
       "8      2025-06-17 18:32:20+00:00  data/photos/@Shageronlinestore_7375.jpg  \n",
       "...                          ...                                      ...  \n",
       "35144  2019-11-13 10:01:12+00:00                                      NaN  \n",
       "35145  2019-11-13 10:00:40+00:00                                      NaN  \n",
       "35149  2019-11-09 04:44:54+00:00                                      NaN  \n",
       "35151  2019-10-31 07:06:25+00:00                                      NaN  \n",
       "35154  2019-10-27 13:38:49+00:00                                      NaN  \n",
       "\n",
       "[20768 rows x 6 columns]"
      ]
     },
     "execution_count": 15,
     "metadata": {},
     "output_type": "execute_result"
    }
   ],
   "source": [
    "df"
   ]
  },
  {
   "cell_type": "code",
   "execution_count": 16,
   "metadata": {},
   "outputs": [
    {
     "data": {
      "text/plain": [
       "0      \\n ባለሁለት ምድጃ ስቶቭ\\n\\n      \\n\\n 2000 ዋት\\n ፊውዝ...\n",
       "1    7pcs   \\n\\n አንድ ማራኪ ጆግና 6 መጠጫ ብርጭቆዎች\\n የፈሳሽ መጠ...\n",
       "6      -  \\n\\n      .\\n360 °  \\n100%  !!\\n\\nዋጋ፦    ...\n",
       "7           \\n\\n          -    \\nከ45cm እስከ 70cm መለጠ...\n",
       "8           \\n\\n          -    \\n\\nዋጋ፦    2000 ብር\\n...\n",
       "Name: Message, dtype: object"
      ]
     },
     "execution_count": 16,
     "metadata": {},
     "output_type": "execute_result"
    }
   ],
   "source": [
    "df['Message'].head()"
   ]
  }
 ],
 "metadata": {
  "kernelspec": {
   "display_name": "venv",
   "language": "python",
   "name": "python3"
  },
  "language_info": {
   "codemirror_mode": {
    "name": "ipython",
    "version": 3
   },
   "file_extension": ".py",
   "mimetype": "text/x-python",
   "name": "python",
   "nbconvert_exporter": "python",
   "pygments_lexer": "ipython3",
   "version": "3.13.3"
  }
 },
 "nbformat": 4,
 "nbformat_minor": 2
}
